{
 "cells": [
  {
   "cell_type": "markdown",
   "metadata": {
    "deletable": true,
    "editable": true
   },
   "source": [
    "## Translating PDF files into Braille using pybrl and LaTeX\n",
    "\n",
    "In this Notebook, I will show how to use `pybrl` in order to parse a PDF file, translate it into Braille and then generate a LaTeX file.\n",
    "\n",
    "I will use `texlive` to compile the generated LaTeX file into a PDF file."
   ]
  },
  {
   "cell_type": "markdown",
   "metadata": {
    "deletable": true,
    "editable": true
   },
   "source": [
    "### Installing `texlive`\n",
    "\n",
    "Installing `texlive` and `texlive-xetex` in Linux distros should be pretty straight-forward, just use your package manager. \n",
    "\n",
    "For example, on Ubuntu just do:\n",
    "```bash\n",
    "apt-get install texlive texlive-xetex\n",
    "```\n",
    "\n",
    "\n",
    "On MacOS, there is a `texlive` port for [Macports](https://www.macports.org/). So, all you need to do is:\n",
    "```bash\n",
    "port install texlive texlive-xetex\n",
    "```\n",
    "\n",
    "LaTeX is preferred over making a PDF programmatically, because this is what LaTeX does: get the content right and LaTeX will make it beautiful."
   ]
  },
  {
   "cell_type": "markdown",
   "metadata": {
    "deletable": true,
    "editable": true
   },
   "source": [
    "### PDFs in `pybrl`\n",
    "\n",
    "`pybrl` has already basic PDF parsing and translation capabilities using [pdfminer](https://github.com/euske/pdfminer). To be more specific, there is a `pdf_utils` submodule in the utils directory, which can parse a PDF file and provide some layout information.\n",
    "\n",
    "Now that we know what tools are going to be used, we can dive into the code:"
   ]
  },
  {
   "cell_type": "code",
   "execution_count": 1,
   "metadata": {
    "collapsed": false,
    "deletable": true,
    "editable": true
   },
   "outputs": [],
   "source": [
    "# Load our dependencies\n",
    "import sys\n",
    "from pathlib import Path\n",
    "\n",
    "sys.path.append('/home/colin/Projects/braille_reading/extern')\n",
    "sys.path.append('/home/colin/Projects/braille_reading/extern/pybrl')\n",
    "#    str(Path.home() / 'Projects/braille_reading/extern/pybrl'))\n",
    "import pybrl as brl\n",
    "\n",
    "filename = \"lorem_ipsum.pdf\"     # of course :P\n",
    "pdf_password = None\n",
    "language = 'english'\n",
    "\n",
    "# Let's translate the PDF file.\n",
    "translated = brl.translatePDF(filename, password = pdf_password, language = language) # Easy, right?"
   ]
  },
  {
   "cell_type": "code",
   "execution_count": 2,
   "metadata": {
    "collapsed": false,
    "scrolled": false
   },
   "outputs": [
    {
     "name": "stdout",
     "output_type": "stream",
     "text": [
      "2\n",
      "1\n",
      "dict_keys(['type', 'text', 'layout'])\n",
      "text\n",
      "{'x0': 76.894685, 'x1': 521.5936549664, 'y0': 74.10073787999997, 'y1': 771.334911012}\n",
      "['000001', '111000', '101010', '111010', '100010', '101100']\n"
     ]
    }
   ],
   "source": [
    "# Let's explore what this object looks like:\n",
    "\n",
    "print(len(translated))             # = 2 (One for each page)\n",
    "print(len(translated[0]))          # = 1 group of text in the page. \n",
    "                                   #     There might be more if (i.e.) a box of text is in a corner.\n",
    "\n",
    "print(translated[0][0].keys())     # type, text, layout\n",
    "print(translated[0][0]['type'])    # 'text'\n",
    "print(translated[0][0]['layout'])  # The bounding box of this group\n",
    "\n",
    "print(translated[0][0]['text'][0]) # The first word: ['000001', '111000', '101010', '111010', '100010', '101100']"
   ]
  },
  {
   "cell_type": "markdown",
   "metadata": {
    "deletable": true,
    "editable": true
   },
   "source": [
    "The `translatePDF` method does the following:\n",
    " 1. Parses the PDF\n",
    " 2. Extracts the Layout information\n",
    " 3. For each page, translate the text.\n",
    " \n",
    "As of the time of writing, the layout is pretty basic and all the text of each page is concatenated (e.g. different groups of text in the page).\n",
    "\n",
    "Since we are using LaTeX to create the PDF file, we actually don't really care about the layout. LaTeX will take care of it."
   ]
  },
  {
   "cell_type": "markdown",
   "metadata": {
    "deletable": true,
    "editable": true
   },
   "source": [
    "### LaTeX generation\n",
    "\n",
    "I will use the following template to generate my document:\n",
    "\n",
    "```latex\n",
    "\\documentclass{scrartcl}\n",
    "\\usepackage[utf8]{inputenc}\n",
    "\n",
    "\\usepackage[parfill]{parskip} % Begin paragraphs with an empty line (and not an indent)\n",
    "\\usepackage{fontspec}\n",
    "\n",
    "\\begin{document}\n",
    "\n",
    "\\setmainfont{LouisLouis.ttf}\n",
    "\n",
    "%%% Content will go here %%%\n",
    "\n",
    "\\end{document}\n",
    "```\n"
   ]
  },
  {
   "cell_type": "code",
   "execution_count": 3,
   "metadata": {
    "collapsed": false,
    "deletable": true,
    "editable": true
   },
   "outputs": [],
   "source": [
    "tex = \"\"                         # Template contents and what will be edited.\n",
    "output = \"output.tex\"            # Output path to the tex file\n",
    "TEMPLATE_PATH = \"template.tex\"   # Path to the Template tex file\n",
    "\n",
    "# Load the Template\n",
    "with open(TEMPLATE_PATH, \"r\") as f:\n",
    "    tex = f.read()\n",
    "\n",
    "# Concatenate all the text. \n",
    "content = \"\"\n",
    "\n",
    "for page in translated:\n",
    "    for group in page:\n",
    "        grouptxt = group['text']\n",
    "        \n",
    "        # Convert to Unicode characters:\n",
    "        unicode_brl = brl.toUnicodeSymbols(grouptxt, flatten=True)\n",
    "        content += \"\\n\\n\" + unicode_brl\n",
    "\n",
    "# Create the new TeX\n",
    "output_tex = tex.replace(\"%%% Content will go here %%%\", content)\n",
    "\n",
    "# Save it\n",
    "with open(output, \"w\") as f:\n",
    "    f.write(output_tex)\n"
   ]
  },
  {
   "cell_type": "markdown",
   "metadata": {
    "deletable": true,
    "editable": true
   },
   "source": [
    "In order to generate the LaTeX document we need to run the following:\n",
    "\n",
    "```bash\n",
    "xelatex output.tex\n",
    "```\n",
    "\n",
    "This will compile the `output.pdf` file, which we can now open with our PDF viewer. We need `xelatex` to use the braille font."
   ]
  },
  {
   "cell_type": "markdown",
   "metadata": {},
   "source": [
    "### Summary\n",
    "\n",
    "That's it. Now the PDF file is generated. Of course, you can change how the pages are formatted by changing the Template, but I didn't want to focus on that on this notebook. I want to show how easy it is to do such tasks using `pybrl`.\n",
    "\n",
    "### Further reading\n",
    "I have made another Notebook which will help you understand how braille is represented in `pybrl`. You can check it out [here](../nemeth_integration/Notebook.ipynb)"
   ]
  }
 ],
 "metadata": {
  "kernelspec": {
   "display_name": "Python 3",
   "language": "python",
   "name": "python3"
  },
  "language_info": {
   "codemirror_mode": {
    "name": "ipython",
    "version": 3
   },
   "file_extension": ".py",
   "mimetype": "text/x-python",
   "name": "python",
   "nbconvert_exporter": "python",
   "pygments_lexer": "ipython3",
   "version": "3.11.4"
  }
 },
 "nbformat": 4,
 "nbformat_minor": 2
}
